{
 "cells": [
  {
   "cell_type": "code",
   "execution_count": null,
   "metadata": {},
   "outputs": [],
   "source": [
    "import matplotlib.pyplot as plt\n",
    "import numpy as np\n",
    "import pandas as pd\n",
    "import librosa\n",
    "from utils import data_generation\n",
    "from sklearn.preprocessing import StandardScaler\n",
    "from sklearn.neighbors import KNeighborsClassifier\n",
    "from sklearn.model_selection import train_test_split\n",
    "from sklearn.ensemble import RandomForestClassifier\n",
    "from sklearn.svm import SVC\n",
    "from sklearn.model_selection import GridSearchCV\n",
    "from sklearn.metrics import classification_report\n",
    "from sklearn.metrics import mean_squared_error\n",
    "import IPython.display as ipd\n",
    "import warnings\n",
    "warnings.filterwarnings(\"ignore\")"
   ]
  },
  {
   "cell_type": "markdown",
   "metadata": {},
   "source": [
    "**Before this exercise, please install the library:**\n",
    "\n",
    "- librosa: -c conda-forge librosa"
   ]
  },
  {
   "cell_type": "markdown",
   "metadata": {},
   "source": [
    "### Task 1: Classification of Dogs and Cats (Bonus 1)\n",
    "\n",
    "In this task you need to classify the dogs and cats based on the voice data using ML-based classifiers, e.g., KNN, SVM, and Randomforest."
   ]
  },
  {
   "cell_type": "markdown",
   "metadata": {},
   "source": [
    "**a)** Load the dog-cat-voice-classification data. The **data_generation** function returns: the voice data, the labels, and the sampling rate."
   ]
  },
  {
   "cell_type": "code",
   "execution_count": null,
   "metadata": {},
   "outputs": [],
   "source": [
    "# X is a list, each element of which is a sample of dog's (or cat's) voice.\n",
    "# y is a array, each element of which is a label of dog (1) or cats (0).\n",
    "\n",
    "X, y, wav_rate = data_generation()"
   ]
  },
  {
   "cell_type": "markdown",
   "metadata": {},
   "source": [
    "Using [**Audio**](https://ipython.org/ipython-doc/3/api/generated/IPython.display.html) function to play an example of the voice data."
   ]
  },
  {
   "cell_type": "code",
   "execution_count": null,
   "metadata": {},
   "outputs": [],
   "source": [
    "####################\n",
    "# Your Code Here   #\n",
    "####################"
   ]
  },
  {
   "cell_type": "markdown",
   "metadata": {},
   "source": [
    "Visualize the example using **plt.plot()**"
   ]
  },
  {
   "cell_type": "code",
   "execution_count": null,
   "metadata": {},
   "outputs": [],
   "source": [
    "####################\n",
    "# Your Code Here   #\n",
    "####################"
   ]
  },
  {
   "cell_type": "markdown",
   "metadata": {},
   "source": [
    "**b)** Use the given function **extract_features()** to extract features from the raw voice data and then split samples into **training dataset** (67% of the whole dataset) and **test dataset** (33% of the whole dataset)."
   ]
  },
  {
   "cell_type": "code",
   "execution_count": null,
   "metadata": {},
   "outputs": [],
   "source": [
    "# Split the X, y into training and test dataset with a test_size=0.33\n",
    "# from sklearn.model_selection import train_test_split\n",
    "\n",
    "####################\n",
    "# Your Code Here   #\n",
    "####################"
   ]
  },
  {
   "cell_type": "code",
   "execution_count": null,
   "metadata": {},
   "outputs": [],
   "source": [
    "def extract_features(audio_samples, sample_rate):\n",
    "    '''\n",
    "    In this function, acoustic features, i.e. zero-crossing features, mfccs features, \n",
    "    and spectral centroid features, are extracted and will be applied to classify.\n",
    "    Anyone who are interested in adding additional features in this function can visit the website:\n",
    "    https://librosa.org/doc/main/feature.html\n",
    "    '''\n",
    "    \n",
    "    extracted_features = np.empty((0, 82, ))\n",
    "    if not isinstance(audio_samples, list):\n",
    "        audio_samples = [audio_samples]\n",
    "        \n",
    "    for sample in audio_samples:\n",
    "        # calculate the zero-crossing feature\n",
    "        zero_cross_feat = librosa.feature.zero_crossing_rate(sample).mean()\n",
    "        \n",
    "        # calculate the mfccs features\n",
    "        mfccs = librosa.feature.mfcc(y=sample, sr=sample_rate, n_mfcc=80)\n",
    "        mfccs_scaled = np.mean(mfccs.T,axis=0)\n",
    "        \n",
    "        # calculate the spectral centroid\n",
    "        centroid = librosa.feature.spectral_centroid(y=sample, sr=sample_rate)\n",
    "        centroid_scaled = np.mean(centroid)\n",
    "            \n",
    "        # add zero crossing feature to the feature list\n",
    "        feature = np.append(mfccs_scaled, [zero_cross_feat, centroid_scaled])\n",
    "        feature = feature.reshape(1, 82)\n",
    "        \n",
    "        extracted_features = np.vstack((extracted_features, feature))\n",
    "\n",
    "    # return the extracted features\n",
    "    return extracted_features"
   ]
  },
  {
   "cell_type": "code",
   "execution_count": null,
   "metadata": {},
   "outputs": [],
   "source": [
    "X_train_features = extract_features(X_train, wav_rate)\n",
    "X_test_features = extract_features(X_test, wav_rate)"
   ]
  },
  {
   "cell_type": "markdown",
   "metadata": {},
   "source": [
    "**c)** Standardize the dataset using **StandardScaler()**."
   ]
  },
  {
   "cell_type": "code",
   "execution_count": null,
   "metadata": {},
   "outputs": [],
   "source": [
    "####################\n",
    "# Your Code Here   #\n",
    "####################"
   ]
  },
  {
   "cell_type": "markdown",
   "metadata": {},
   "source": [
    "**d)** **Implement** the classifiers: KNN, SVM, and Randomforest. **Optimize** the hyperparameters of these classifiers using grid search and **test** the models using K-Fold cross-validation. **Evaluate** these classifiers with respect to precision, recall, f1-score, accuracy.\n",
    "\n",
    "**Hints**:\n",
    "\n",
    "(1) Refer to the functions: [GridSearchCV()](https://scikit-learn.org/stable/modules/generated/sklearn.model_selection.GridSearchCV.html), [KNeighborsClassifier()](https://scikit-learn.org/stable/modules/generated/sklearn.neighbors.KNeighborsClassifier.html?highlight=kneighborsclassifier#sklearn.neighbors.KNeighborsClassifier), [SVC()](https://scikit-learn.org/stable/modules/generated/sklearn.svm.SVC.html?highlight=svc#sklearn.svm.SVC), [RandomForestClassifier()](https://scikit-learn.org/stable/modules/generated/sklearn.ensemble.RandomForestClassifier.html?highlight=randomforestclassifier#sklearn.ensemble.RandomForestClassifier), and [classification_report()](https://scikit-learn.org/stable/modules/generated/sklearn.metrics.classification_report.html?highlight=classification_report#sklearn.metrics.classification_report).\n",
    "\n",
    "(2) What are the adjustable hyperparameters of these classifiers?\n",
    "\n",
    "(3) Figure out the what these evaluation metrics are."
   ]
  },
  {
   "cell_type": "code",
   "execution_count": null,
   "metadata": {},
   "outputs": [],
   "source": [
    "## KNeighborsClassifier\n",
    "\n",
    "####################\n",
    "# Your Code Here   #\n",
    "####################"
   ]
  },
  {
   "cell_type": "code",
   "execution_count": null,
   "metadata": {},
   "outputs": [],
   "source": [
    "## SVC\n",
    "\n",
    "####################\n",
    "# Your Code Here   #\n",
    "####################"
   ]
  },
  {
   "cell_type": "code",
   "execution_count": null,
   "metadata": {},
   "outputs": [],
   "source": [
    "## RandomForestClassifier\n",
    "\n",
    "####################\n",
    "# Your Code Here   #\n",
    "####################"
   ]
  },
  {
   "cell_type": "markdown",
   "metadata": {},
   "source": [
    "**e)** **Feature selection**. Estimate the importances of the extracted features (82 features in all) using **RandomForestClassifier** and re-training the classifers after reducing the redundant features. \n",
    "\n",
    "\n",
    "Hint:\n",
    "- Use the Attribute feature_importances_ from the RandomForestClassifier\n",
    "\n",
    "- Refer to: https://scikit-learn.org/stable/auto_examples/ensemble/plot_forest_importances.html\n"
   ]
  },
  {
   "cell_type": "code",
   "execution_count": null,
   "metadata": {},
   "outputs": [],
   "source": [
    "# We select the first 30 features after ranking. You can try to explore the optimal number of features.\n",
    "####################\n",
    "# Your Code Here   #\n",
    "####################"
   ]
  },
  {
   "cell_type": "code",
   "execution_count": null,
   "metadata": {},
   "outputs": [],
   "source": [
    "## Retraining KNeighborsClassifier with the ranked features.\n",
    "\n",
    "####################\n",
    "# Your Code Here   #\n",
    "####################"
   ]
  },
  {
   "cell_type": "code",
   "execution_count": null,
   "metadata": {},
   "outputs": [],
   "source": [
    "## Retraining SVC with the ranked features.\n",
    "\n",
    "####################\n",
    "# Your Code Here   #\n",
    "####################"
   ]
  },
  {
   "cell_type": "code",
   "execution_count": null,
   "metadata": {},
   "outputs": [],
   "source": [
    "## Retraining RandomForestClassifier with the ranked features.\n",
    "\n",
    "####################\n",
    "# Your Code Here   #\n",
    "####################"
   ]
  }
 ],
 "metadata": {
  "kernelspec": {
   "display_name": "Python 3",
   "language": "python",
   "name": "python3"
  },
  "language_info": {
   "codemirror_mode": {
    "name": "ipython",
    "version": 3
   },
   "file_extension": ".py",
   "mimetype": "text/x-python",
   "name": "python",
   "nbconvert_exporter": "python",
   "pygments_lexer": "ipython3",
   "version": "3.7.6"
  }
 },
 "nbformat": 4,
 "nbformat_minor": 2
}
