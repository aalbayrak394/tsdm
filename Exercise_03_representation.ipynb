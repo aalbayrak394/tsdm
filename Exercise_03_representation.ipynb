{
 "cells": [
  {
   "cell_type": "markdown",
   "metadata": {},
   "source": [
    "# Temporal and Spatial DataMining\n",
    "## Exercise 03 Representation"
   ]
  },
  {
   "cell_type": "code",
   "execution_count": null,
   "metadata": {},
   "outputs": [],
   "source": [
    "import matplotlib.pyplot as plt\n",
    "import numpy as np\n",
    "import pandas as pd\n",
    "plt.style.use('ggplot')"
   ]
  },
  {
   "cell_type": "markdown",
   "metadata": {},
   "source": [
    "### Task1: Piecewise Aggregate Approximation PAA\n",
    "\n",
    "PAA approximates a time-series X of length n into vector $\\bar{X}=(\\bar{x}_{1},…,\\bar{x}_{M})$ of any arbitrary length $M \\leq n$ where each of $\\bar{x_{i}}$ is calculated as follows:\n",
    "\n",
    "$$\\bar{x}_{i} = \\frac{M}{n}\\sum_{j=n/M(i-1)+1}^{(n/M)i} x_{j}$$"
   ]
  },
  {
   "cell_type": "markdown",
   "metadata": {},
   "source": [
    "**a)** implement a PAA function for reducing the dimensionality of the time-series from n to M.\n",
    "\n",
    "n: Number of input time series\n",
    "\n",
    "M: Number of reduced time series\n",
    "\n",
    "PS: **There are immediate special cases however**,\n",
    "\n",
    "1. M>=n: The reduced series is exact copy of the original sequence.\n",
    "2. M=1: The reduced series is the mean of the original sequence."
   ]
  },
  {
   "cell_type": "code",
   "execution_count": null,
   "metadata": {},
   "outputs": [],
   "source": [
    "t = np.array([3.12, 2.02, 2.33, 2.99, 6.85, 9.20, 8.80, 7.50, 6.00, 5.85, 3.85, 4.85, 3.85, 2.22, 1.45, 1.34])"
   ]
  },
  {
   "cell_type": "code",
   "execution_count": null,
   "metadata": {},
   "outputs": [],
   "source": [
    "def paa(arr, sections):\n",
    "    \n",
    "    pass   \n",
    "    ####################\n",
    "    # Your Code Here   #\n",
    "    ####################"
   ]
  },
  {
   "cell_type": "markdown",
   "metadata": {},
   "source": [
    "**b)** Plot results (Update on 28.04.2021)\n",
    "\n",
    "**Hint**: Use [plt.step](https://matplotlib.org/stable/api/_as_gen/matplotlib.pyplot.step.html) to plot the reduced time series.\n"
   ]
  },
  {
   "cell_type": "code",
   "execution_count": null,
   "metadata": {
    "scrolled": true
   },
   "outputs": [],
   "source": [
    "plt.figure(figsize=(10, 4))\n",
    "plt.title(\"Piecewise Aggregate Approximation\", size=14, loc=\"right\")\n",
    "plt.plot(range(1, len(t)+1), t, marker=\"o\", linewidth=0.5)\n",
    "\n",
    "### PAA results:\n",
    "####################\n",
    "# Your Code Here   #\n",
    "####################\n",
    "\n",
    "plt.xticks(range(1, 16))\n",
    "plt.xlabel(\"Index\")\n",
    "plt.ylabel(\"TS Value\")\n",
    "plt.show()"
   ]
  },
  {
   "cell_type": "markdown",
   "metadata": {},
   "source": [
    "### Task2: Piecewise Polynomial Approximation"
   ]
  },
  {
   "cell_type": "markdown",
   "metadata": {},
   "source": [
    "**a)** Use **ppoly_data** to import data.\n",
    "\n",
    "Suppose the data is generated in this way: x is from random normal with mean 0, std = 10. length of x is 1000"
   ]
  },
  {
   "cell_type": "code",
   "execution_count": null,
   "metadata": {},
   "outputs": [],
   "source": [
    "from utils.TimeSeries import ppoly_data\n",
    "from sklearn.linear_model import LinearRegression\n",
    "from scipy import optimize"
   ]
  },
  {
   "cell_type": "code",
   "execution_count": null,
   "metadata": {},
   "outputs": [],
   "source": [
    "x, y = ppoly_data()"
   ]
  },
  {
   "cell_type": "markdown",
   "metadata": {},
   "source": [
    "**b)** plot scatter of x and y"
   ]
  },
  {
   "cell_type": "code",
   "execution_count": null,
   "metadata": {},
   "outputs": [],
   "source": [
    "####################\n",
    "# Your Code Here   #\n",
    "####################"
   ]
  },
  {
   "cell_type": "markdown",
   "metadata": {},
   "source": [
    "**c)** Use **[LinearRegression](https://scikit-learn.org/stable/modules/generated/sklearn.linear_model.LinearRegression.html)** to fit the data and plot it. What can you observe?"
   ]
  },
  {
   "cell_type": "code",
   "execution_count": null,
   "metadata": {},
   "outputs": [],
   "source": [
    "####################\n",
    "# Your Code Here   #\n",
    "####################"
   ]
  },
  {
   "cell_type": "markdown",
   "metadata": {},
   "source": [
    "**d)** Piecewise linear regression. Design the function **piecewise_linear** with help of [np.piecewise](https://docs.scipy.org/doc/numpy/reference/generated/numpy.piecewise.html) and [optimize.curve_fit](https://docs.scipy.org/doc/scipy/reference/generated/scipy.optimize.curve_fit.html). (Update on 28.04.2021)\n",
    "\n",
    "**Hints:** \n",
    "\n",
    "1. There are 3 intervals. For each interval, a linear line will be fitted.\n",
    "\n",
    "2. $y=b+k1×x+k2×(x-x0)|(x>x0)+k3×(x-x1)|(x>x1)$\n",
    "\n",
    "3. You can refer to the [example](https://stackoverflow.com/questions/29382903/how-to-apply-piecewise-linear-fit-in-python)"
   ]
  },
  {
   "cell_type": "code",
   "execution_count": null,
   "metadata": {
    "scrolled": false
   },
   "outputs": [],
   "source": [
    "def piecewise_linear(x, x0, x1, b, k1, k2, k3):\n",
    "    ####################\n",
    "    # Your Code Here   #\n",
    "    ####################\n",
    "    return np.piecewise(x, condlist, funclist)"
   ]
  },
  {
   "cell_type": "code",
   "execution_count": null,
   "metadata": {},
   "outputs": [],
   "source": [
    "p, e = optimize.curve_fit(piecewise_linear, x, y)\n",
    "\n",
    "perr = np.sqrt(np.diag(e))\n",
    "print(perr)"
   ]
  },
  {
   "cell_type": "code",
   "execution_count": null,
   "metadata": {},
   "outputs": [],
   "source": [
    "# plot the fit function\n",
    "####################\n",
    "# Your Code Here   #\n",
    "####################"
   ]
  },
  {
   "cell_type": "markdown",
   "metadata": {},
   "source": [
    "### Task3: SAX  (Bonus task)"
   ]
  },
  {
   "cell_type": "code",
   "execution_count": null,
   "metadata": {},
   "outputs": [],
   "source": [
    "import matplotlib.pyplot as plt\n",
    "import numpy as np\n",
    "import pandas as pd\n",
    "from utils.TimeSeries import TS_1, TS_2\n",
    "from scipy.stats import norm"
   ]
  },
  {
   "cell_type": "markdown",
   "metadata": {},
   "source": [
    "**a)** Implement SAX as discussed in the lecture using the given Interface. (Update on 28.04.2021)\n",
    "\n",
    "**Hint**: The argument **as_symbol** and **from_symbol** mean that the digits are encoded to character symbols, for example, '1' -- 'a', '2' -- 'b'. Refer to the built-in functions [chr()](https://www.programiz.com/python-programming/methods/built-in/chr) and [ord()](https://www.programiz.com/python-programming/methods/built-in/ord)."
   ]
  },
  {
   "cell_type": "code",
   "execution_count": null,
   "metadata": {},
   "outputs": [],
   "source": [
    "class SAX:\n",
    "    def __init__(self, symbols=5):\n",
    "        \"\"\" Initialize a new approximation objection.\n",
    "\n",
    "        Parameters:\n",
    "        ===========\n",
    "        symbols - number of different symbols to be used for encoding\n",
    "        \"\"\"\n",
    "        pass\n",
    "        ####################\n",
    "    # Your Code Here   #\n",
    "    ####################        \n",
    "    \n",
    "    def fit(self, X):\n",
    "        \"\"\" Fit boundaries.\n",
    "\n",
    "        Calculates mean and std from training data to be used in\n",
    "        transform(X)\n",
    "        \n",
    "        Parameters:\n",
    "        ===========\n",
    "        X - time series do be used as source\n",
    "\n",
    "        Return:\n",
    "        =======\n",
    "        reference to self\n",
    "        \"\"\"\n",
    "        pass\n",
    "        ####################\n",
    "    # Your Code Here   #\n",
    "    ####################        \n",
    "\n",
    "\n",
    "    def transform(self, X, as_symbol=True):\n",
    "        \"\"\"\n",
    "        Transform the given time series to a symbolic representation.\n",
    "\n",
    "        Standardizes X with the parameters learned from training data.\n",
    "\n",
    "        Arguments:\n",
    "        ==========\n",
    "        X - time series do be converted.\n",
    "\n",
    "        as_symbol - boolean - whether to return the actual symbols or the indices\n",
    "        \"\"\"\n",
    "        pass\n",
    "        ####################\n",
    "    # Your Code Here   #\n",
    "    ####################        \n",
    "\n",
    "    def reconstruct(self, S, from_symbol=True):\n",
    "        \"\"\"\n",
    "        Reconstruct the time series from its Symbolic representation.\n",
    "\n",
    "        Arguments:\n",
    "        ==========\n",
    "        S - symbolic representation of a time series\n",
    "\n",
    "        Returns:\n",
    "        ========\n",
    "        Reconstructed signal from S \n",
    "        \"\"\"\n",
    "        ####################\n",
    "    # Your Code Here   #\n",
    "    ####################"
   ]
  },
  {
   "cell_type": "markdown",
   "metadata": {},
   "source": [
    "**b)** Plot the time series **TS_1** and **TS_2**. Then calculate the similarity of the time series. \n",
    "\n",
    "**Note**: Normalized Euclidean distance\n",
    "\n",
    "$d=\\sqrt{\\sum_{n=1}^{N}\\dfrac{(\\mathbf{\\hat{y}}_n-\\mathbf{y}_n)^2}{N}}$, where $\\hat{y}_{n}$ and $y_{n}$ are the $n$th measurement and prediction, respectively. $N$ is the number of samples."
   ]
  },
  {
   "cell_type": "code",
   "execution_count": null,
   "metadata": {},
   "outputs": [],
   "source": [
    "x,y = TS_1(x1=20, samples=300)\n",
    "a,b = TS_2(x1=20, samples=300)\n",
    "\n",
    "# plot the two time series\n",
    "####################\n",
    "# Your Code Here   #\n",
    "####################"
   ]
  },
  {
   "cell_type": "code",
   "execution_count": null,
   "metadata": {},
   "outputs": [],
   "source": [
    "# calculate the normalizaed Euclidean distance\n",
    "####################\n",
    "# Your Code Here   #\n",
    "####################"
   ]
  },
  {
   "cell_type": "markdown",
   "metadata": {},
   "source": [
    "**c)** Use SAX to convert the two time series into a character combination. Then reconstruct the time series and plot it with the original time series. (In a plot)"
   ]
  },
  {
   "cell_type": "code",
   "execution_count": null,
   "metadata": {},
   "outputs": [],
   "source": [
    "####################\n",
    "# Your Code Here   #\n",
    "####################"
   ]
  },
  {
   "cell_type": "code",
   "execution_count": null,
   "metadata": {},
   "outputs": [],
   "source": [
    "####################\n",
    "# Your Code Here   #\n",
    "####################"
   ]
  },
  {
   "cell_type": "markdown",
   "metadata": {},
   "source": [
    "**d)** Calculate the similarity of the reconstructions with the original time series. "
   ]
  },
  {
   "cell_type": "code",
   "execution_count": null,
   "metadata": {},
   "outputs": [],
   "source": [
    "####################\n",
    "# Your Code Here   #\n",
    "####################"
   ]
  },
  {
   "cell_type": "markdown",
   "metadata": {},
   "source": [
    "**e)** Use the following time series and repeat the procedure of task **c)** and **d)**. Which problem occurs?"
   ]
  },
  {
   "cell_type": "code",
   "execution_count": null,
   "metadata": {},
   "outputs": [],
   "source": [
    "xx,yy = TS_1(x1=200, samples=3000)\n",
    "aa,bb = TS_2(x1=200, samples=3000)"
   ]
  },
  {
   "cell_type": "code",
   "execution_count": null,
   "metadata": {},
   "outputs": [],
   "source": [
    "####################\n",
    "# Your Code Here   #\n",
    "####################"
   ]
  },
  {
   "cell_type": "markdown",
   "metadata": {},
   "source": [
    "**f)** Implement a function that cleans up the trend of the time series and plot it.\n",
    "\n",
    "**Note:** Take a look at the Numpy function **polyfit** for getting the trend."
   ]
  },
  {
   "cell_type": "code",
   "execution_count": null,
   "metadata": {},
   "outputs": [],
   "source": [
    "def get_trend(x, y):\n",
    "    \"\"\"Return the trend of the given time series.\"\"\"\n",
    "    ####################\n",
    "    # Your Code Here   #\n",
    "    ####################"
   ]
  },
  {
   "cell_type": "code",
   "execution_count": null,
   "metadata": {},
   "outputs": [],
   "source": [
    "# Plot them and compare the original time series and the cleaned time series.\n",
    "\n",
    "####################\n",
    "# Your Code Here   #\n",
    "####################"
   ]
  },
  {
   "cell_type": "code",
   "execution_count": null,
   "metadata": {},
   "outputs": [],
   "source": [
    "# Apply the SAX to the cleaned time series and plot them\n",
    "\n",
    "####################\n",
    "# Your Code Here   #\n",
    "####################"
   ]
  }
 ],
 "metadata": {
  "kernelspec": {
   "display_name": "Python 3",
   "language": "python",
   "name": "python3"
  },
  "language_info": {
   "codemirror_mode": {
    "name": "ipython",
    "version": 3
   },
   "file_extension": ".py",
   "mimetype": "text/x-python",
   "name": "python",
   "nbconvert_exporter": "python",
   "pygments_lexer": "ipython3",
   "version": "3.9.16"
  }
 },
 "nbformat": 4,
 "nbformat_minor": 4
}
