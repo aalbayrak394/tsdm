{
 "cells": [
  {
   "cell_type": "markdown",
   "metadata": {},
   "source": [
    "# Temporal and Spatial DataMining\n",
    "\n",
    "## Exercise_06_Similarity"
   ]
  },
  {
   "cell_type": "code",
   "execution_count": 1,
   "metadata": {},
   "outputs": [
    {
     "name": "stdout",
     "output_type": "stream",
     "text": [
      "Intel MKL WARNING: Support of Intel(R) Streaming SIMD Extensions 4.2 (Intel(R) SSE4.2) enabled only processors has been deprecated. Intel oneAPI Math Kernel Library 2025.0 will require Intel(R) Advanced Vector Extensions (Intel(R) AVX) instructions.\n",
      "Intel MKL WARNING: Support of Intel(R) Streaming SIMD Extensions 4.2 (Intel(R) SSE4.2) enabled only processors has been deprecated. Intel oneAPI Math Kernel Library 2025.0 will require Intel(R) Advanced Vector Extensions (Intel(R) AVX) instructions.\n"
     ]
    }
   ],
   "source": [
    "import math\n",
    "import numpy as np\n",
    "import matplotlib.pyplot as plt\n",
    "from utils.TimeSeries import TS_1, TS_2\n",
    "from scipy.linalg import norm\n",
    "from matplotlib import cm\n",
    "plt.style.use('ggplot')"
   ]
  },
  {
   "cell_type": "markdown",
   "metadata": {},
   "source": [
    "### Task 1: DTW"
   ]
  },
  {
   "cell_type": "markdown",
   "metadata": {},
   "source": [
    "**a)** Understanding DTW\n",
    "\n",
    "Explain the procedure of the DTW algorithm \n",
    "\n",
    ">**Tip:** Take a look at the lecture notes, in \"Information Retrieval for Music and Motion\" by Müller (Chapter 4, as an e-book in the library), in the \"Everything you know about Dynamic Time Warping is Wrong\" by Ratanamahatana and Keogh, in \"Exact Indexing of Dynamic Time Warping\" by Keogh.)"
   ]
  },
  {
   "cell_type": "markdown",
   "metadata": {},
   "source": [
    "**Q1.** What is a \"local cost function\"?"
   ]
  },
  {
   "cell_type": "markdown",
   "metadata": {},
   "source": [
    "\n",
    " **---  Your Text Here ----** \n"
   ]
  },
  {
   "cell_type": "markdown",
   "metadata": {},
   "source": [
    "**Q2.** What is a \"DTW matrix\"?"
   ]
  },
  {
   "cell_type": "markdown",
   "metadata": {},
   "source": [
    "\n",
    " **---  Your Text Here ----** \n"
   ]
  },
  {
   "cell_type": "markdown",
   "metadata": {},
   "source": [
    "**Q3.** What is a warping path?"
   ]
  },
  {
   "cell_type": "markdown",
   "metadata": {},
   "source": [
    "\n",
    " **---  Your Text Here ----** \n"
   ]
  },
  {
   "cell_type": "markdown",
   "metadata": {},
   "source": [
    "**Q4.** What is indexing and what are \"lower bounds\"?"
   ]
  },
  {
   "cell_type": "markdown",
   "metadata": {},
   "source": [
    "\n",
    " **---  Your Text Here ----** \n"
   ]
  },
  {
   "cell_type": "markdown",
   "metadata": {},
   "source": [
    "**Q5.(UPDATE)** In which cases is it possible to obtain more than one warping path when calculating the similarity of two Time Series? What is the difference between the obtained paths?"
   ]
  },
  {
   "cell_type": "markdown",
   "metadata": {},
   "source": [
    "\n",
    " **---  Your Text Here ----** \n"
   ]
  },
  {
   "cell_type": "markdown",
   "metadata": {},
   "source": [
    "**Q6.** Is DTW robust against outliers? (that is, do outliers change the DTW value?)"
   ]
  },
  {
   "cell_type": "markdown",
   "metadata": {},
   "source": [
    "\n",
    " **---  Your Text Here ----** \n"
   ]
  },
  {
   "cell_type": "markdown",
   "metadata": {},
   "source": [
    "**Q7.** What is the difference between norm and metric?"
   ]
  },
  {
   "cell_type": "markdown",
   "metadata": {},
   "source": [
    "\n",
    " **---  Your Text Here ----** \n"
   ]
  },
  {
   "cell_type": "markdown",
   "metadata": {},
   "source": [
    "**Q8.** Is Euclidean Distance a Metric? What must be fulfilled to call a function  $d(\\mathbf{x},\\mathbf{y})$ a metric?"
   ]
  },
  {
   "cell_type": "markdown",
   "metadata": {},
   "source": [
    "\n",
    " **---  Your Text Here ----** \n"
   ]
  },
  {
   "cell_type": "markdown",
   "metadata": {},
   "source": [
    "**Q9.** Is DTW a metric?"
   ]
  },
  {
   "cell_type": "markdown",
   "metadata": {},
   "source": [
    "\n",
    " **---  Your Text Here ----** \n"
   ]
  },
  {
   "cell_type": "markdown",
   "metadata": {},
   "source": [
    "**b)** Implement the calculation of the accumulated cost matrix in the function **dtw**. Then execute the function with the given **x** and **y** values."
   ]
  },
  {
   "cell_type": "code",
   "execution_count": 2,
   "metadata": {},
   "outputs": [],
   "source": [
    "def dtw(x, y, dist, warp=1):\n",
    "    \"\"\"\n",
    "    Computes Dynamic Time Warping (DTW) of two sequences.\n",
    "    :param array x: N1*M array\n",
    "    :param array y: N2*M array\n",
    "    :param func dist: distance used as cost measure\n",
    "    :param int warp: how many shifts are computed.\n",
    "    Returns the minimum distance, the cost matrix, the accumulated cost matrix, and the wrap path.\n",
    "    \"\"\"\n",
    "    assert len(x)\n",
    "    assert len(y)\n",
    "    r, c = len(x), len(y)\n",
    "    D0 = np.zeros((r + 1, c + 1))\n",
    "    D0[0, 1:] = np.inf\n",
    "    D0[1:, 0] = np.inf\n",
    "    D1 = D0[1:, 1:]  # view\n",
    "    for i in range(r):\n",
    "        for j in range(c):\n",
    "            D1[i, j] = dist(x[i], y[j])\n",
    "    C = D1.copy()\n",
    "    ####################\n",
    "    for i in range(r):\n",
    "        for j in range(c):\n",
    "            if i == 0 and j == 0:\n",
    "                D1[i, j] = C[i, j]\n",
    "            elif i == 0:\n",
    "                D1[i, j] = C[i, j] + D1[i, j-1]\n",
    "            elif j == 0:\n",
    "                D1[i, j] = C[i, j] + D1[i-1, j]\n",
    "            else:\n",
    "                D1[i, j] = C[i, j] + min(D1[i-1, j], D1[i, j-1], D1[i-1, j-1])\n",
    "    ####################\n",
    "    if len(x)==1:\n",
    "        path = np.zeros(len(y)), range(len(y))\n",
    "    elif len(y) == 1:\n",
    "        path = range(len(x)), np.zeros(len(x))\n",
    "    else:\n",
    "        path = _traceback(D0)\n",
    "        \n",
    "    return D1[-1, -1] / sum(D1.shape), C, D1, path\n",
    "\n",
    "def _traceback(D):\n",
    "    i, j = np.array(D.shape) - 2\n",
    "    p, q = [i], [j]\n",
    "    while (i > 0) or (j > 0):\n",
    "        tb = np.argmin((D[i, j], D[i, j+1], D[i+1, j]))\n",
    "        if tb == 0:\n",
    "            i -= 1\n",
    "            j -= 1\n",
    "        elif tb == 1:\n",
    "            i -= 1\n",
    "        else:  # (tb == 2):\n",
    "            j -= 1\n",
    "        p.insert(0, i)\n",
    "        q.insert(0, j)\n",
    "    return np.array(p), np.array(q)\n"
   ]
  },
  {
   "cell_type": "code",
   "execution_count": 3,
   "metadata": {},
   "outputs": [
    {
     "name": "stdout",
     "output_type": "stream",
     "text": [
      "[[ 0. inf inf inf inf inf]\n",
      " [inf  0.  0.  0.  0.  0.]\n",
      " [inf  0.  0.  0.  0.  0.]\n",
      " [inf  0.  0.  0.  0.  0.]\n",
      " [inf  0.  0.  0.  0.  0.]\n",
      " [inf  0.  0.  0.  0.  0.]]\n"
     ]
    },
    {
     "data": {
      "text/plain": [
       "array([[0., 0., 0., 0., 0.],\n",
       "       [0., 0., 0., 0., 0.],\n",
       "       [0., 0., 0., 0., 0.],\n",
       "       [0., 0., 0., 0., 0.],\n",
       "       [0., 0., 0., 0., 0.]])"
      ]
     },
     "execution_count": 3,
     "metadata": {},
     "output_type": "execute_result"
    }
   ],
   "source": [
    "### test code zum Verständnis ###\n",
    "D0 = np.zeros((6, 6))\n",
    "D0[0, 1:] = np.inf\n",
    "D0[1:, 0] = np.inf\n",
    "print(D0)\n",
    "\n",
    "D1 = D0[1:, 1:]\n",
    "D1"
   ]
  },
  {
   "cell_type": "code",
   "execution_count": 4,
   "metadata": {},
   "outputs": [],
   "source": [
    "t1,c = TS_1(x1=5, samples=50)\n",
    "t2,d = TS_2(x1=5, samples=40)\n",
    "\n",
    "x=c.reshape(-1,1)\n",
    "y=d.reshape(-1,1)"
   ]
  },
  {
   "cell_type": "code",
   "execution_count": 5,
   "metadata": {},
   "outputs": [
    {
     "data": {
      "text/plain": [
       "[<matplotlib.lines.Line2D at 0x7fa420c6d130>]"
      ]
     },
     "execution_count": 5,
     "metadata": {},
     "output_type": "execute_result"
    },
    {
     "data": {
      "image/png": "[encoded data removed]",
      "text/plain": [
       "<Figure size 640x480 with 1 Axes>"
      ]
     },
     "metadata": {},
     "output_type": "display_data"
    }
   ],
   "source": [
    "plt.plot(t1,c)\n",
    "plt.plot(t2,d)"
   ]
  },
  {
   "cell_type": "code",
   "execution_count": 6,
   "metadata": {},
   "outputs": [],
   "source": [
    "def simple_distance(X1, X2, p):\n",
    "    return np.sum(np.abs(X1-X2)**p)**(1/p)\n",
    "\n",
    "# plot the accumulated cost martix and the wrap path\n",
    "dist, cost, acc, path = dtw(x, y, dist=lambda x, y: simple_distance(x, y, 2))"
   ]
  },
  {
   "cell_type": "code",
   "execution_count": 7,
   "metadata": {},
   "outputs": [
    {
     "data": {
      "image/png": "[encoded data removed]",
      "text/plain": [
       "<Figure size 1000x500 with 1 Axes>"
      ]
     },
     "metadata": {},
     "output_type": "display_data"
    }
   ],
   "source": [
    "plt.figure(figsize=(10,5))\n",
    "plt.imshow(cost, origin='lower')\n",
    "plt.plot(path[1], path[0], color='r')\n",
    "plt.axis('off')\n",
    "plt.show()"
   ]
  },
  {
   "cell_type": "markdown",
   "metadata": {},
   "source": [
    "### Task 2: LCSS"
   ]
  },
  {
   "cell_type": "markdown",
   "metadata": {},
   "source": [
    "**a)** Implement the function **lcss** and output the longest subsequence of the two given sequences.\n",
    "\n",
    "**Hint**:\n",
    "[The lcss function defined](https://en.wikipedia.org/wiki/Longest_common_subsequence_problem):\n",
    "\n",
    "1. $lcss(x_i, y_i)=\\varnothing$, if $i = 0$ or $j = 0$\n",
    "2. $lcss(x_i, y_i)=lcss(x_{i-1}, y_{j-1})^{\\wedge}x_i$, if $i,j > 0$ and $x_i=y_j$\n",
    "3. $lcss(x_i, y_i)=max\\{lcss(x_i, y_{j-1}), lcss(x_{i-1}, y_j)\\}$, if $i,j > 0$ and $x_i\\neq y_j$\n"
   ]
  },
  {
   "cell_type": "code",
   "execution_count": 46,
   "metadata": {},
   "outputs": [],
   "source": [
    "def lcss(x, y):\n",
    "    '''\n",
    "    x: a string with length of N\n",
    "    y: a string with length of M\n",
    "    Output: the longest subsequences.\n",
    "    '''\n",
    "    matrix = [''] * (len(x) + 1)\n",
    "    for index_x in range(len(matrix)):\n",
    "        matrix[index_x] = [''] * (len(y) + 1)\n",
    "    \n",
    "    ####################\n",
    "    for i in range(len(x)+1):\n",
    "        for j in range(len(y)+1):\n",
    "            if i == 0 or j == 0:\n",
    "                matrix[i][j] = ''\n",
    "            elif x[i-1] == y[j-1]:\n",
    "                matrix[i][j] = matrix[i-1][j-1] + x[i-1]\n",
    "            else:\n",
    "                a = matrix[i][j-1]\n",
    "                b = matrix[i-1][j]\n",
    "                matrix[i][j] = a if len(a) > len(b) else b\n",
    "    ####################\n",
    "    print(np.array(matrix))\n",
    "    return matrix[len(x)][len(y)]"
   ]
  },
  {
   "cell_type": "code",
   "execution_count": 47,
   "metadata": {},
   "outputs": [
    {
     "name": "stdout",
     "output_type": "stream",
     "text": [
      "[['' '' '' '' '' '' '' '' '' '']\n",
      " ['' 'a' 'a' 'a' 'a' 'a' 'a' 'a' 'a' 'a']\n",
      " ['' 'a' 'a' 'a' 'ab' 'ab' 'ab' 'ab' 'ab' 'ab']\n",
      " ['' 'a' 'a' 'a' 'ab' 'abc' 'abc' 'abc' 'abc' 'abc']\n",
      " ['' 'a' 'ad' 'ad' 'ab' 'abc' 'abc' 'abc' 'abcd' 'abcd']\n",
      " ['' 'a' 'ad' 'ad' 'ab' 'abc' 'abce' 'abce' 'abcd' 'abcd']\n",
      " ['' 'a' 'ad' 'ad' 'ab' 'abc' 'abce' 'abce' 'abcd' 'abcdf']]\n",
      "The longest subsequences is: abcdf\n"
     ]
    }
   ],
   "source": [
    "x = \"abcdef\"\n",
    "y = \"adabceqdf\"\n",
    "print('The longest subsequences is:', lcss(x, y))"
   ]
  },
  {
   "cell_type": "markdown",
   "metadata": {},
   "source": [
    ">LCSS Matrix:\n",
    "\n",
    "```\n",
    "[['', '', '', '', '', '', '', '', '', ''],\n",
    " ['', 'a', 'a', 'a', 'a', 'a', 'a', 'a', 'a', 'a'],\n",
    " ['', 'a', 'a', 'a', 'ab', 'ab', 'ab', 'ab', 'ab', 'ab'],\n",
    " ['', 'a', 'a', 'a', 'ab', 'abc', 'abc', 'abc', 'abc', 'abc'],\n",
    " ['', 'a', 'ad', 'ad', 'ab', 'abc', 'abc', 'abc', 'abcd', 'abcd'],\n",
    " ['', 'a', 'ad', 'ad', 'ab', 'abc', 'abce', 'abce', 'abcd', 'abcd'],\n",
    " ['', 'a', 'ad', 'ad', 'ab', 'abc', 'abce', 'abce', 'abcd', 'abcdf']]\n",
    "```"
   ]
  },
  {
   "cell_type": "markdown",
   "metadata": {},
   "source": [
    "### Task 3: ED\n",
    "\n",
    "**a)** Implement the function to calculate edit distance based on the following formulas:\n",
    "\n",
    "\n",
    "1. $dist1 = ED(i-1, j-1)$, if $x_i=y_i$\n",
    "2. $dist2 = ED(i-1, j-1) + 1$, (replace)\n",
    "3. $dist3 = ED(i, j-1) + 1$, (insert)\n",
    "4. $dist4 = ED(i-1, j) + 1$, (delete)\n",
    "\n",
    "$ED(i,j) = min\\{dist1, dist2, dist3, dist4\\}$, with $ED(0,0)=0$, $ED(i,0)=i$ and $ED(0,j)=j$"
   ]
  },
  {
   "cell_type": "code",
   "execution_count": 10,
   "metadata": {},
   "outputs": [],
   "source": [
    "def edit_distance(str_a,str_b):\n",
    "    \"\"\"\n",
    "    :param str_a:\n",
    "    :param str_b:\n",
    "    :return: Edit distance\n",
    "    \"\"\"\n",
    "    str_a=str_a.lower()\n",
    "    str_b=str_b.lower()\n",
    "    matrix_ed=np.zeros((len(str_a)+1,len(str_b)+1),dtype=int)\n",
    "    matrix_ed[0]=np.arange(len(str_b)+1)\n",
    "    matrix_ed[:,0] = np.arange(len(str_a) + 1)\n",
    "    \n",
    "    ####################\n",
    "    # Your Code Here   #\n",
    "    ####################\n",
    "        \n",
    "    return matrix_ed[-1,-1]"
   ]
  },
  {
   "cell_type": "markdown",
   "metadata": {},
   "source": [
    "**b)** Calculate the edit distance between x1 and x2."
   ]
  },
  {
   "cell_type": "code",
   "execution_count": 11,
   "metadata": {},
   "outputs": [
    {
     "name": "stdout",
     "output_type": "stream",
     "text": [
      "The edit distance between x1 and x2 is: 0\n"
     ]
    }
   ],
   "source": [
    "x1 = 'love'\n",
    "x2 = 'lolpe'\n",
    "\n",
    "print('The edit distance between x1 and x2 is:', edit_distance(x1, x2))"
   ]
  },
  {
   "cell_type": "markdown",
   "metadata": {},
   "source": [
    ">ED Matrix:\n",
    "\n",
    "```\n",
    "array([[0, 1, 2, 3, 4, 5],\n",
    "       [1, 0, 1, 2, 3, 4],\n",
    "       [2, 1, 0, 1, 2, 3],\n",
    "       [3, 2, 1, 1, 2, 3],\n",
    "       [4, 3, 2, 2, 2, 2]])\n",
    "```"
   ]
  },
  {
   "cell_type": "markdown",
   "metadata": {},
   "source": [
    "### Task 4: TWED (Bonus)"
   ]
  },
  {
   "cell_type": "markdown",
   "metadata": {},
   "source": [
    "**a)** Read the paper entitled \"Time Warp Edit Distance with Stiffness Adjustment for Time Series Matching\" http://ieeexplore.ieee.org/Xplore/home.jsp of Pierre-François Marteau \n",
    "> Sections: **3, 3.1, and 4.1 - 4.4**\n",
    "\n",
    "> Furthermore: Wikipedia [article](https://de.wikipedia.org/wiki/Time_Warp_Edit_Distance) on TWED. "
   ]
  },
  {
   "cell_type": "markdown",
   "metadata": {},
   "source": [
    "**b)** What is \"Stiffness Adjustment\"?"
   ]
  },
  {
   "cell_type": "markdown",
   "metadata": {},
   "source": [
    "\n",
    " **---  Your Text Here ----** \n"
   ]
  },
  {
   "cell_type": "markdown",
   "metadata": {},
   "source": [
    "**c)** Is TWED a metric? "
   ]
  },
  {
   "cell_type": "markdown",
   "metadata": {},
   "source": [
    "\n",
    " **---  Your Text Here ----** \n"
   ]
  },
  {
   "cell_type": "markdown",
   "metadata": {},
   "source": [
    "**d)** Implement the TWED function. "
   ]
  },
  {
   "cell_type": "code",
   "execution_count": 12,
   "metadata": {},
   "outputs": [],
   "source": [
    "def init_matrix(data):\n",
    "    for i in range(len(data)):\n",
    "        data[i][0] = float('inf')\n",
    "    for i in range(len(data[0])):\n",
    "        data[0][i] = float('inf')\n",
    "    data[0][0] = 0\n",
    "    return data\n",
    "\n",
    "def LpDist(time_pt_1, time_pt_2):\n",
    "    \n",
    "    pass\n",
    "    ####################\n",
    "    # Your Code Here   #\n",
    "    ####################\n",
    "\n",
    "def TWED(t1, t2, lam, nu):\n",
    "    \"\"\"\"\n",
    "    Requires: \n",
    "    t1: multivariate time series in numpy matrix format. \n",
    "    t2: multivariate time series in numpy matrix format. \n",
    "    lam: penalty lambda parameter, \n",
    "    nu: stiffness coefficient\n",
    "    \n",
    "    Returns the TWED distance between the two time series. \n",
    "    \"\"\"\n",
    "    t1_time, t1_data = t1\n",
    "    t2_time, t2_data = t2\n",
    "    result = [[0]*len(t2_data) for row in range(len(t1_data))]\n",
    "    result = init_matrix(result)\n",
    "    \n",
    "    pass\n",
    "    ####################\n",
    "    # Your Code Here   #\n",
    "    ####################\n",
    "    return result[n-1][m-1]"
   ]
  },
  {
   "cell_type": "code",
   "execution_count": 13,
   "metadata": {},
   "outputs": [],
   "source": [
    "ts_1 = TS_1(x1=5, samples=50)\n",
    "ts_2 = TS_2(x1=5, samples=50)\n",
    "\n",
    "# calculate the distance between time series ts_1 and ts_2\n",
    "\n",
    "####################\n",
    "# Your Code Here   #\n",
    "####################"
   ]
  }
 ],
 "metadata": {
  "kernelspec": {
   "display_name": "Python 3",
   "language": "python",
   "name": "python3"
  },
  "language_info": {
   "codemirror_mode": {
    "name": "ipython",
    "version": 3
   },
   "file_extension": ".py",
   "mimetype": "text/x-python",
   "name": "python",
   "nbconvert_exporter": "python",
   "pygments_lexer": "ipython3",
   "version": "3.9.18"
  }
 },
 "nbformat": 4,
 "nbformat_minor": 4
}
