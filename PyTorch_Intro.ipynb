{
 "cells": [
  {
   "cell_type": "markdown",
   "id": "c353fa61",
   "metadata": {},
   "source": [
    "# Temporal and spatial data mining"
   ]
  },
  {
   "cell_type": "markdown",
   "id": "a91db95e",
   "metadata": {},
   "source": [
    "## Getting started with PyTorch\n",
    "\n",
    ">For Installation take a look in the following [link](https://pytorch.org/get-started/locally/)"
   ]
  },
  {
   "cell_type": "code",
   "execution_count": null,
   "id": "2a1f7f45",
   "metadata": {},
   "outputs": [],
   "source": [
    "import torch\n",
    "import numpy as np"
   ]
  },
  {
   "cell_type": "markdown",
   "id": "c6eab744",
   "metadata": {},
   "source": [
    ">What all about a Tensor?"
   ]
  },
  {
   "cell_type": "code",
   "execution_count": null,
   "id": "95fe46f5",
   "metadata": {},
   "outputs": [],
   "source": [
    "# variable types:\n",
    "torch.*Tensor?"
   ]
  },
  {
   "cell_type": "markdown",
   "id": "d2a4b821",
   "metadata": {},
   "source": [
    ">Let's start with a simple numpy array"
   ]
  },
  {
   "cell_type": "code",
   "execution_count": null,
   "id": "4d735e25",
   "metadata": {},
   "outputs": [],
   "source": [
    "a = np.array([1, 2])\n",
    "b = np.array([8, 9])\n",
    "\n",
    "c = a + b\n",
    "c"
   ]
  },
  {
   "cell_type": "markdown",
   "id": "d4960e92",
   "metadata": {
    "colab_type": "text",
    "id": "KwCAz4WM7XOy"
   },
   "source": [
    ">Adding the same arrays with PyTorch looks like this:"
   ]
  },
  {
   "cell_type": "code",
   "execution_count": null,
   "id": "c98f4fd8",
   "metadata": {
    "colab": {
     "base_uri": "https://localhost:8080/",
     "height": 34
    },
    "colab_type": "code",
    "id": "dDUOcIf07k8r",
    "outputId": "2d574606-4f2d-4f94-8c7a-c06e55bc1e75"
   },
   "outputs": [],
   "source": [
    "a = torch.tensor([1, 2])\n",
    "b = torch.tensor([8, 9])\n",
    "\n",
    "c = a + b\n",
    "c"
   ]
  },
  {
   "cell_type": "markdown",
   "id": "cccfeadd",
   "metadata": {
    "colab_type": "text",
    "id": "a-8tu_mlBVRx"
   },
   "source": [
    ">Fortunately, you can go from NumPy to PyTorch:"
   ]
  },
  {
   "cell_type": "code",
   "execution_count": null,
   "id": "c18b0f6f",
   "metadata": {
    "colab": {
     "base_uri": "https://localhost:8080/",
     "height": 34
    },
    "colab_type": "code",
    "id": "mYBBtOZ5BzZt",
    "outputId": "0170ea79-c8f5-4070-8ed0-8f48792680b5"
   },
   "outputs": [],
   "source": [
    "a = torch.tensor([1, 2])\n",
    "\n",
    "a.numpy()"
   ]
  },
  {
   "cell_type": "markdown",
   "id": "5be25f79",
   "metadata": {
    "colab_type": "text",
    "id": "n_tueio4B9UM"
   },
   "source": [
    "> and vice versa:"
   ]
  },
  {
   "cell_type": "code",
   "execution_count": null,
   "id": "6f3cd2ae",
   "metadata": {
    "colab": {
     "base_uri": "https://localhost:8080/",
     "height": 34
    },
    "colab_type": "code",
    "id": "wbGxHHCmCI0y",
    "outputId": "9bdee02c-655e-4af0-9ffb-00e1b751a7d9"
   },
   "outputs": [],
   "source": [
    "a = np.array([1, 2])\n",
    "torch.from_numpy(a)"
   ]
  },
  {
   "cell_type": "markdown",
   "id": "ef384865",
   "metadata": {
    "colab_type": "text",
    "id": "8eX91koTxYtc"
   },
   "source": [
    ">The good news is that the conversions incur almost no cost on the performance of your app. The NumPy and PyTorch store data in memory in the same way. That is, PyTorch is reusing the work done by NumPy.\n",
    "\n",
    "### Tensors\n",
    "\n",
    ">Tensors are just n-dimensional number (including booleans) containers. You can find the complete list of supported data types at [PyTorch's Tensor Docs](https://pytorch.org/docs/stable/tensors.html).\n",
    "\n",
    ">So, how can you create a Tensor (try to ignore that I've already shown you how to do it)?\n",
    "\n"
   ]
  },
  {
   "cell_type": "code",
   "execution_count": null,
   "id": "881c7c73",
   "metadata": {
    "colab": {
     "base_uri": "https://localhost:8080/",
     "height": 51
    },
    "colab_type": "code",
    "id": "YbBs1LnZ4In7",
    "outputId": "22e79557-9936-423c-b3bd-b81872fe1127"
   },
   "outputs": [],
   "source": [
    "torch.tensor([[1, 2], [2, 1]])"
   ]
  },
  {
   "cell_type": "markdown",
   "id": "17d65781",
   "metadata": {
    "colab_type": "text",
    "id": "qpfHgg9j40Zx"
   },
   "source": [
    ">You can create a tensor from floats:"
   ]
  },
  {
   "cell_type": "code",
   "execution_count": null,
   "id": "375b01ab",
   "metadata": {
    "colab": {
     "base_uri": "https://localhost:8080/",
     "height": 51
    },
    "colab_type": "code",
    "id": "oQxFkDU94lZE",
    "outputId": "5b7283e1-c4cf-42b8-d40c-c06fbc7208da"
   },
   "outputs": [],
   "source": [
    "torch.FloatTensor([[1, 2], [2, 1]])"
   ]
  },
  {
   "cell_type": "markdown",
   "id": "b7c8ce76",
   "metadata": {
    "colab_type": "text",
    "id": "1_t2URO15H1m"
   },
   "source": [
    ">Or define the type like so:"
   ]
  },
  {
   "cell_type": "code",
   "execution_count": null,
   "id": "a16a7e8a",
   "metadata": {
    "colab": {
     "base_uri": "https://localhost:8080/",
     "height": 51
    },
    "colab_type": "code",
    "id": "V38yr_Jw47bz",
    "outputId": "b4b41f5b-e62f-4423-8312-d5c5536b514b"
   },
   "outputs": [],
   "source": [
    "torch.tensor([[1, 2], [2, 1]], dtype=torch.bool)"
   ]
  },
  {
   "cell_type": "markdown",
   "id": "2e91b6a2",
   "metadata": {
    "colab_type": "text",
    "id": "JmRTLJtN58lV"
   },
   "source": [
    ">You can use a wide range of factory methods to create Tensors without manually specifying each number. For example, you can create a matrix with random numbers like this: "
   ]
  },
  {
   "cell_type": "code",
   "execution_count": null,
   "id": "76302be1",
   "metadata": {
    "colab": {
     "base_uri": "https://localhost:8080/",
     "height": 68
    },
    "colab_type": "code",
    "id": "IX7D1-fO59Tp",
    "outputId": "46527178-2120-4d4a-b759-724f76193d08"
   },
   "outputs": [],
   "source": [
    "torch.rand(3, 2)"
   ]
  },
  {
   "cell_type": "markdown",
   "id": "83d36978",
   "metadata": {
    "colab_type": "text",
    "id": "4vYL2FDC6emK"
   },
   "source": [
    ">Or one full of ones:"
   ]
  },
  {
   "cell_type": "code",
   "execution_count": null,
   "id": "f15122db",
   "metadata": {
    "colab": {
     "base_uri": "https://localhost:8080/",
     "height": 68
    },
    "colab_type": "code",
    "id": "xpYH8oSK6haK",
    "outputId": "329b7140-5f8b-4f7f-8eb5-41b8a1c4747e"
   },
   "outputs": [],
   "source": [
    "torch.ones(3, 2)"
   ]
  },
  {
   "cell_type": "markdown",
   "id": "1338f63d",
   "metadata": {
    "colab_type": "text",
    "id": "CK5KF34VGNeI"
   },
   "source": [
    ">PyTorch has a variety of useful operations:"
   ]
  },
  {
   "cell_type": "code",
   "execution_count": null,
   "id": "6179458f",
   "metadata": {
    "colab": {
     "base_uri": "https://localhost:8080/",
     "height": 68
    },
    "colab_type": "code",
    "id": "NLMyFkALGd84",
    "outputId": "d8498aef-e2c0-489f-db1d-7ea84fbd1f30"
   },
   "outputs": [],
   "source": [
    "x = torch.tensor([[2, 3], [1, 2]])\n",
    "print(x)\n",
    "print(f'sum: {x.sum()}')"
   ]
  },
  {
   "cell_type": "markdown",
   "id": "4e33c614",
   "metadata": {
    "colab_type": "text",
    "id": "QyzGvIsAIt-u"
   },
   "source": [
    ">Get the transpose of a 2-D tensor:"
   ]
  },
  {
   "cell_type": "code",
   "execution_count": null,
   "id": "ea8d2670",
   "metadata": {
    "colab": {
     "base_uri": "https://localhost:8080/",
     "height": 51
    },
    "colab_type": "code",
    "id": "rDgKzHgkIi4O",
    "outputId": "4fe531d4-71fb-4b28-b455-6593d0e86b51"
   },
   "outputs": [],
   "source": [
    "x.t()"
   ]
  },
  {
   "cell_type": "markdown",
   "id": "e13bf953",
   "metadata": {
    "colab_type": "text",
    "id": "d_JRK8brLZTh"
   },
   "source": [
    ">Get the shape of each dimension:"
   ]
  },
  {
   "cell_type": "code",
   "execution_count": null,
   "id": "37811c9a",
   "metadata": {
    "colab": {
     "base_uri": "https://localhost:8080/",
     "height": 34
    },
    "colab_type": "code",
    "id": "GvDZZ-igLaio",
    "outputId": "04cff3fb-e665-485c-c155-2f562667dc48"
   },
   "outputs": [],
   "source": [
    "x.size()"
   ]
  },
  {
   "cell_type": "markdown",
   "id": "f8e359a7",
   "metadata": {
    "colab_type": "text",
    "id": "zxjrhfUfR_rM"
   },
   "source": [
    ">Generally, performing some operation creates a new Tensor:"
   ]
  },
  {
   "cell_type": "code",
   "execution_count": null,
   "id": "ccd9bb33",
   "metadata": {
    "colab": {
     "base_uri": "https://localhost:8080/",
     "height": 51
    },
    "colab_type": "code",
    "id": "yy7LEtCCSszs",
    "outputId": "9fba705c-10dd-4c87-a1ec-41f95346a4b0"
   },
   "outputs": [],
   "source": [
    "y = torch.tensor([[2, 2], [5, 1]])\n",
    "z = x.add(y)\n",
    "z"
   ]
  },
  {
   "cell_type": "markdown",
   "id": "58947614",
   "metadata": {
    "colab_type": "text",
    "id": "e9B-2vSaT0tx"
   },
   "source": [
    ">But you can do it in-place:\n",
    "\n",
    ">Mind the underscore!\n",
    ">Any operation that mutates a tensor in-place is post-fixed with an _.\n",
    ">For example: `x.copy_(y)`, `x.t_()`, `x.random_(n)` will change x."
   ]
  },
  {
   "cell_type": "code",
   "execution_count": null,
   "id": "823c126f",
   "metadata": {
    "colab": {
     "base_uri": "https://localhost:8080/",
     "height": 51
    },
    "colab_type": "code",
    "id": "Fd2KmNhvT-pb",
    "outputId": "663f18df-7f68-4936-c56f-2c22f5baf8e3"
   },
   "outputs": [],
   "source": [
    "# using x.add_(y) change the value of x inplace\n",
    "# your can rund this cell several times\n",
    "\n",
    "x.add_(y)\n",
    "x"
   ]
  },
  {
   "cell_type": "markdown",
   "id": "fd0fb015",
   "metadata": {
    "colab_type": "text",
    "id": "n1iRWWwOU_eq"
   },
   "source": [
    ">Almost all operations have an in-place version - the name of the operation, followed by an underscore."
   ]
  },
  {
   "cell_type": "markdown",
   "id": "e160d26a",
   "metadata": {
    "colab_type": "text",
    "id": "opIXKjEOxaas"
   },
   "source": [
    "### Running on GPU\n",
    "\n",
    "At this point, you might be like: \"Why do I need PyTorch at all? All of this is perfectly doable with NumPy?\". PyTorch has three major superpowers: \n",
    "- you can run your operations on the GPU(s) (or something else)\n",
    "- [Autograd: automatic differentiation](https://pytorch.org/tutorials/beginner/blitz/autograd_tutorial.html)\n",
    "- A set of tools to build Neural Networks. Including several additional packages for working [with text](https://github.com/pytorch/text) or [images](https://github.com/pytorch/vision).\n",
    "\n",
    "Doing your Deep Learning computations on the GPU speeds up your experiment by a lot! And PyTorch makes it ridiculously easy to do it. Let's start by checking if GPU is available:"
   ]
  },
  {
   "cell_type": "code",
   "execution_count": null,
   "id": "f094845c",
   "metadata": {
    "colab": {
     "base_uri": "https://localhost:8080/",
     "height": 34
    },
    "colab_type": "code",
    "id": "8T3P8oGMZs03",
    "outputId": "93191030-8161-41bb-d897-cc542809b018"
   },
   "outputs": [],
   "source": [
    "device = torch.device(\"cuda\") if torch.cuda.is_available() else torch.device(\"cpu\")\n",
    "device"
   ]
  },
  {
   "cell_type": "markdown",
   "id": "c5172f89",
   "metadata": {
    "colab_type": "text",
    "id": "0IELcj4DaEU9"
   },
   "source": [
    "Good, we have a [CUDA](https://en.wikipedia.org/wiki/CUDA)-enabled GPU device on our hands. Let's store a Tensor on it:"
   ]
  },
  {
   "cell_type": "code",
   "execution_count": null,
   "id": "22b77b71",
   "metadata": {
    "colab": {
     "base_uri": "https://localhost:8080/",
     "height": 51
    },
    "colab_type": "code",
    "id": "ctE2IzK3bsBp",
    "outputId": "a641a868-1124-46c3-da3b-22345bef28d4"
   },
   "outputs": [],
   "source": [
    "x = torch.tensor([[2, 3], [1, 2]])\n",
    "x.to(device)"
   ]
  },
  {
   "cell_type": "markdown",
   "id": "e296b300",
   "metadata": {
    "colab_type": "text",
    "id": "yZK72ECLb4fO"
   },
   "source": [
    "Notice that our Tensor is now on device `cuda:0`. What can we do with it? Pretty much everything as before:"
   ]
  },
  {
   "cell_type": "code",
   "execution_count": null,
   "id": "d264eef4",
   "metadata": {},
   "outputs": [],
   "source": [
    "x = x.to(device)\n",
    "\n",
    "y = torch.tensor([[2, 2], [5, 1]])\n",
    "y = y.to(device)\n",
    "\n",
    "x.add(y)"
   ]
  },
  {
   "cell_type": "markdown",
   "id": "fa3f0372",
   "metadata": {
    "colab_type": "text",
    "id": "BNjzckYYxiUq"
   },
   "source": [
    "### Common Issues\n",
    "\n",
    "I got to be honest with you. You will mess up, multiple times, before understanding how this whole thing works out. That's alright!\n",
    "\n",
    "However, there are a couple of things you can do that might minimize the frustrations along your journey:\n",
    "\n",
    "- Doing operations between GPU and CPU Tensors is **not allowed**\n",
    "- Size mismatch between Tensors occurs often and is (almost every time) easy to fix:\n",
    "\n"
   ]
  },
  {
   "cell_type": "code",
   "execution_count": null,
   "id": "9e271359",
   "metadata": {
    "colab": {
     "base_uri": "https://localhost:8080/",
     "height": 217
    },
    "colab_type": "code",
    "id": "Xx8xt6SExcW0",
    "outputId": "b29c3de8-3e9e-42b6-8d16-7ce93e03fbfc"
   },
   "outputs": [],
   "source": [
    "a = torch.ones(2, 2) \n",
    "b = torch.ones(1, 3)\n",
    "a * b"
   ]
  },
  {
   "cell_type": "markdown",
   "id": "c23c4bff",
   "metadata": {},
   "source": [
    "## Vectors (1D Tensors)"
   ]
  },
  {
   "cell_type": "code",
   "execution_count": null,
   "id": "cd4c6f45",
   "metadata": {},
   "outputs": [],
   "source": [
    "# Creates a 1D tensor of integers 1 to 4\n",
    "v = torch.Tensor([1, 2, 3, 4])\n",
    "v"
   ]
  },
  {
   "cell_type": "code",
   "execution_count": null,
   "id": "4f24307d",
   "metadata": {},
   "outputs": [],
   "source": [
    "# Print number of dimensions (1D) and size of tensor\n",
    "print(f'dim: {v.dim()}, size: {v.size()[0]}')"
   ]
  },
  {
   "cell_type": "code",
   "execution_count": null,
   "id": "a1ef3587",
   "metadata": {},
   "outputs": [],
   "source": [
    "w = torch.Tensor([1, 0, 2, 0])\n",
    "w"
   ]
  },
  {
   "cell_type": "code",
   "execution_count": null,
   "id": "22822591",
   "metadata": {},
   "outputs": [],
   "source": [
    "# Element-wise multiplication\n",
    "v * w"
   ]
  },
  {
   "cell_type": "code",
   "execution_count": null,
   "id": "11ada292",
   "metadata": {},
   "outputs": [],
   "source": [
    "# Scalar product: 1*1 + 2*0 + 3*2 + 4*0\n",
    "v @ w"
   ]
  },
  {
   "cell_type": "code",
   "execution_count": null,
   "id": "b834073d",
   "metadata": {},
   "outputs": [],
   "source": [
    "# In-place replacement of random number from 0 to 10\n",
    "x = torch.Tensor(5).random_(10)\n",
    "x"
   ]
  },
  {
   "cell_type": "code",
   "execution_count": null,
   "id": "f29160e8",
   "metadata": {},
   "outputs": [],
   "source": [
    "print(f'first: {x[0]}, last: {x[-1]}')"
   ]
  },
  {
   "cell_type": "code",
   "execution_count": null,
   "id": "cbcc0315",
   "metadata": {},
   "outputs": [],
   "source": [
    "# Extract sub-Tensor [from:to)\n",
    "x[1:2 + 1]"
   ]
  },
  {
   "cell_type": "code",
   "execution_count": null,
   "id": "258b9f1c",
   "metadata": {},
   "outputs": [],
   "source": [
    "v"
   ]
  },
  {
   "cell_type": "code",
   "execution_count": null,
   "id": "09c28306",
   "metadata": {},
   "outputs": [],
   "source": [
    "# Create a tensor with integers ranging from 1 to 5, excluding 5\n",
    "v = torch.arange(1, 4 + 1)\n",
    "v"
   ]
  },
  {
   "cell_type": "code",
   "execution_count": null,
   "id": "f1cfb178",
   "metadata": {},
   "outputs": [],
   "source": [
    "# Square all elements in the tensor\n",
    "print(v.pow(2), v)"
   ]
  },
  {
   "cell_type": "markdown",
   "id": "adf2b32c",
   "metadata": {},
   "source": [
    "## Matrices (2D Tensors)"
   ]
  },
  {
   "cell_type": "code",
   "execution_count": null,
   "id": "1c965a5d",
   "metadata": {},
   "outputs": [],
   "source": [
    "# Create a 2x4 tensor\n",
    "m = torch.Tensor([[2, 5, 3, 7],\n",
    "                  [4, 2, 1, 9]])\n",
    "m"
   ]
  },
  {
   "cell_type": "code",
   "execution_count": null,
   "id": "a76bedd3",
   "metadata": {},
   "outputs": [],
   "source": [
    "m.dim()"
   ]
  },
  {
   "cell_type": "code",
   "execution_count": null,
   "id": "fac96431",
   "metadata": {},
   "outputs": [],
   "source": [
    "print(m.size(0), m.size(1), m.size(), sep=' -- ')"
   ]
  },
  {
   "cell_type": "code",
   "execution_count": null,
   "id": "eda7323b",
   "metadata": {},
   "outputs": [],
   "source": [
    "# Returns the total number of elements, hence num-el (number of elements)\n",
    "m.numel()"
   ]
  },
  {
   "cell_type": "code",
   "execution_count": null,
   "id": "4146e44b",
   "metadata": {},
   "outputs": [],
   "source": [
    "# Indexing column 0, row 2 (0-indexed)\n",
    "m[0][2]"
   ]
  },
  {
   "cell_type": "code",
   "execution_count": null,
   "id": "8ae530c5",
   "metadata": {},
   "outputs": [],
   "source": [
    "# Indexing column 0, row 2 (0-indexed)\n",
    "m[0, 2]"
   ]
  },
  {
   "cell_type": "code",
   "execution_count": null,
   "id": "040b69ec",
   "metadata": {},
   "outputs": [],
   "source": [
    "# Indexing column 1, all rows (returns size 2)\n",
    "m[:, 1]"
   ]
  },
  {
   "cell_type": "code",
   "execution_count": null,
   "id": "29310814",
   "metadata": {},
   "outputs": [],
   "source": [
    "# Indexing column 1, all rows (returns size 2x.2)\n",
    "m[:, [1]]"
   ]
  },
  {
   "cell_type": "code",
   "execution_count": null,
   "id": "ad50d50b",
   "metadata": {},
   "outputs": [],
   "source": [
    "# Indexes row 0, all columns (returns 1x4)\n",
    "m[[0], :]"
   ]
  },
  {
   "cell_type": "code",
   "execution_count": null,
   "id": "5215ca61",
   "metadata": {},
   "outputs": [],
   "source": [
    "# Indexes row 0, all columns (returns 4)\n",
    "m[0, :]"
   ]
  },
  {
   "cell_type": "code",
   "execution_count": null,
   "id": "a4c5ce92",
   "metadata": {},
   "outputs": [],
   "source": [
    "# Create tensor of numbers from 1 to 5 (excluding 5)\n",
    "v = torch.arange(1., 4 + 1)\n",
    "v"
   ]
  },
  {
   "cell_type": "code",
   "execution_count": null,
   "id": "3cc09f85",
   "metadata": {},
   "outputs": [],
   "source": [
    "m"
   ]
  },
  {
   "cell_type": "code",
   "execution_count": null,
   "id": "b8210ec3",
   "metadata": {},
   "outputs": [],
   "source": [
    "# Scalar product\n",
    "m @ v"
   ]
  },
  {
   "cell_type": "code",
   "execution_count": null,
   "id": "46852161",
   "metadata": {},
   "outputs": [],
   "source": [
    "# Calculated by 1*2 + 2*5 + 3*3 + 4*7\n",
    "m[[0], :] @ v"
   ]
  },
  {
   "cell_type": "code",
   "execution_count": null,
   "id": "2057db3b",
   "metadata": {},
   "outputs": [],
   "source": [
    "# Calculated by \n",
    "m[[1], :] @ v"
   ]
  },
  {
   "cell_type": "code",
   "execution_count": null,
   "id": "f6ff8fc5",
   "metadata": {},
   "outputs": [],
   "source": [
    "# Add a random tensor of size 2x4 to m\n",
    "m + torch.rand(2, 4)"
   ]
  },
  {
   "cell_type": "code",
   "execution_count": null,
   "id": "6ff71fba",
   "metadata": {},
   "outputs": [],
   "source": [
    "# Subtract a random tensor of size 2x4 to m\n",
    "m - torch.rand(2, 4)"
   ]
  },
  {
   "cell_type": "code",
   "execution_count": null,
   "id": "79dc4b04",
   "metadata": {},
   "outputs": [],
   "source": [
    "# Multiply a random tensor of size 2x4 to m\n",
    "m * torch.rand(2, 4)"
   ]
  },
  {
   "cell_type": "code",
   "execution_count": null,
   "id": "a2c3b291",
   "metadata": {},
   "outputs": [],
   "source": [
    "# Divide m by a random tensor of size 2x4\n",
    "m / torch.rand(2, 4)"
   ]
  },
  {
   "cell_type": "code",
   "execution_count": null,
   "id": "c28e3890",
   "metadata": {},
   "outputs": [],
   "source": [
    "m.size()"
   ]
  },
  {
   "cell_type": "code",
   "execution_count": null,
   "id": "728d58b2",
   "metadata": {},
   "outputs": [],
   "source": [
    "# Transpose tensor m, which is essentially 2x4 to 4x2\n",
    "m.t()"
   ]
  },
  {
   "cell_type": "code",
   "execution_count": null,
   "id": "872b7f77",
   "metadata": {},
   "outputs": [],
   "source": [
    "# Same as\n",
    "m.transpose(0, 1)"
   ]
  },
  {
   "cell_type": "markdown",
   "id": "7e2275bc",
   "metadata": {},
   "source": [
    "## Constructors"
   ]
  },
  {
   "cell_type": "code",
   "execution_count": null,
   "id": "84625a58",
   "metadata": {},
   "outputs": [],
   "source": [
    "# Create tensor from 3 to 8, with each having a space of 1\n",
    "torch.arange(3., 8 + 1)"
   ]
  },
  {
   "cell_type": "code",
   "execution_count": null,
   "id": "498e37d1",
   "metadata": {},
   "outputs": [],
   "source": [
    "# Create tensor from 5.7 to -2.7 with each having a space of -3\n",
    "torch.arange(5.7, -3, -2.1)"
   ]
  },
  {
   "cell_type": "code",
   "execution_count": null,
   "id": "bb14094a",
   "metadata": {},
   "outputs": [],
   "source": [
    "# returns a 1D tensor of steps equally spaced points between start=3, end=8 and steps=20\n",
    "torch.linspace(3, 8, 20).view(1, -1)"
   ]
  },
  {
   "cell_type": "code",
   "execution_count": null,
   "id": "695ca838",
   "metadata": {},
   "outputs": [],
   "source": [
    "# Create a tensor filled with 0's\n",
    "torch.zeros(3, 5)"
   ]
  },
  {
   "cell_type": "code",
   "execution_count": null,
   "id": "88bda492",
   "metadata": {},
   "outputs": [],
   "source": [
    "# Create a tensor filled with 1's\n",
    "torch.ones(3, 2, 5)"
   ]
  },
  {
   "cell_type": "code",
   "execution_count": null,
   "id": "13e6c1e8",
   "metadata": {},
   "outputs": [],
   "source": [
    "# Create a tensor with the diagonal filled with 1\n",
    "torch.eye(3)"
   ]
  },
  {
   "cell_type": "markdown",
   "id": "aee04973",
   "metadata": {},
   "source": [
    ">You need always to transform your tensors to numpy arrays for plotting"
   ]
  },
  {
   "cell_type": "code",
   "execution_count": null,
   "id": "4db231cd",
   "metadata": {},
   "outputs": [],
   "source": [
    "# Set default plots\n",
    "from matplotlib import pyplot as plt\n",
    "from utils.plot_lib import set_default, show_scatterplot, plot_bases\n",
    "set_default()"
   ]
  },
  {
   "cell_type": "code",
   "execution_count": null,
   "id": "7644a548",
   "metadata": {},
   "outputs": [],
   "source": [
    "# Numpy bridge!\n",
    "plt.hist(torch.randn(1000).numpy(), 100);"
   ]
  },
  {
   "cell_type": "code",
   "execution_count": null,
   "id": "73719930",
   "metadata": {},
   "outputs": [],
   "source": [
    "plt.hist(torch.randn(10**6).numpy(), 100);  # how much does this chart weight?\n",
    "# use rasterized=True for SVG/EPS/PDF!"
   ]
  },
  {
   "cell_type": "code",
   "execution_count": null,
   "id": "664f1e09",
   "metadata": {},
   "outputs": [],
   "source": [
    "plt.hist(torch.rand(10**6).numpy(), 100);"
   ]
  },
  {
   "cell_type": "markdown",
   "id": "fa8fd6ba",
   "metadata": {},
   "source": [
    "## Casting"
   ]
  },
  {
   "cell_type": "code",
   "execution_count": null,
   "id": "7329218c",
   "metadata": {},
   "outputs": [],
   "source": [
    "m"
   ]
  },
  {
   "cell_type": "code",
   "execution_count": null,
   "id": "cbf2c0a7",
   "metadata": {},
   "outputs": [],
   "source": [
    "# This is basically a 64 bit float tensor\n",
    "m_double = m.double()\n",
    "m_double"
   ]
  },
  {
   "cell_type": "code",
   "execution_count": null,
   "id": "9b9b7017",
   "metadata": {},
   "outputs": [],
   "source": [
    "# This creates a tensor of type int8\n",
    "m_byte = m.byte()\n",
    "m_byte"
   ]
  },
  {
   "cell_type": "code",
   "execution_count": null,
   "id": "e3c3e26a",
   "metadata": {},
   "outputs": [],
   "source": [
    "# Move your tensor to GPU device 0 if there is one (first GPU in the system)\n",
    "device = torch.device(\"cuda:0\" if torch.cuda.is_available() else \"cpu\")\n",
    "m.to(device)"
   ]
  },
  {
   "cell_type": "code",
   "execution_count": null,
   "id": "9df130a1",
   "metadata": {},
   "outputs": [],
   "source": [
    "# Converts tensor to numpy array\n",
    "m_np = m.numpy()\n",
    "m_np"
   ]
  },
  {
   "cell_type": "code",
   "execution_count": null,
   "id": "4e7c9532",
   "metadata": {},
   "outputs": [],
   "source": [
    "# In-place fill of column 0 and row 0 with value -1\n",
    "m_np[0, 0] = -1\n",
    "m_np"
   ]
  },
  {
   "cell_type": "code",
   "execution_count": null,
   "id": "afe4ac63",
   "metadata": {},
   "outputs": [],
   "source": [
    "m"
   ]
  },
  {
   "cell_type": "code",
   "execution_count": null,
   "id": "05cc4168",
   "metadata": {},
   "outputs": [],
   "source": [
    "# Create a tensor of integers ranging from 0 to 4\n",
    "import numpy as np\n",
    "n_np = np.arange(5)\n",
    "n = torch.from_numpy(n_np)\n",
    "print(n_np, n)"
   ]
  },
  {
   "cell_type": "code",
   "execution_count": null,
   "id": "c2e57618",
   "metadata": {},
   "outputs": [],
   "source": [
    "# In-place multiplication of all elements by 2 for tensor n\n",
    "# Because n is essentiall n_np, not a clone, this affects n_np\n",
    "n.mul_(2)\n",
    "n_np"
   ]
  },
  {
   "cell_type": "markdown",
   "id": "48ca96b7",
   "metadata": {},
   "source": [
    "## More fun"
   ]
  },
  {
   "cell_type": "code",
   "execution_count": null,
   "id": "e015824b",
   "metadata": {},
   "outputs": [],
   "source": [
    "# Creates two tensor of size 1x4\n",
    "a = torch.Tensor([[1, 2, 3, 4]])\n",
    "b = torch.Tensor([[5, 6, 7, 8]])\n",
    "print(a.size(), b)"
   ]
  },
  {
   "cell_type": "code",
   "execution_count": null,
   "id": "4052a8b0",
   "metadata": {},
   "outputs": [],
   "source": [
    "# Concatenate on axis 0, so you get 2x4\n",
    "torch.cat((a, b), 0)"
   ]
  },
  {
   "cell_type": "code",
   "execution_count": null,
   "id": "77ccb602",
   "metadata": {
    "tags": []
   },
   "outputs": [],
   "source": [
    "# Concatenate on axis 1, so you get 1x8\n",
    "torch.cat((a, b), 1)"
   ]
  },
  {
   "cell_type": "markdown",
   "id": "c59f0ee8",
   "metadata": {},
   "source": [
    "## Our Fists Deep Learning Model\n",
    "\n",
    ">First we want to create a PyTorch Model using the `nn`Module"
   ]
  },
  {
   "cell_type": "code",
   "execution_count": null,
   "id": "7c132765",
   "metadata": {},
   "outputs": [],
   "source": [
    "import torch.nn as nn\n",
    "from matplotlib.pyplot import plot, title, axis\n",
    "from IPython import display"
   ]
  },
  {
   "cell_type": "code",
   "execution_count": null,
   "id": "d51c8c15",
   "metadata": {},
   "outputs": [],
   "source": [
    "X = torch.unsqueeze(torch.linspace(-1, 1, 100), dim=1)\n",
    "y = X.pow(3) + 0.3 * torch.rand(X.size())"
   ]
  },
  {
   "cell_type": "code",
   "execution_count": null,
   "id": "3d4276a5",
   "metadata": {},
   "outputs": [],
   "source": [
    "print(\"Shapes:\")\n",
    "print(\"X:\", tuple(X.size()))\n",
    "print(\"y:\", tuple(y.size()))"
   ]
  },
  {
   "cell_type": "code",
   "execution_count": null,
   "id": "799bab10",
   "metadata": {},
   "outputs": [],
   "source": [
    "plt.scatter(X.numpy(), y.numpy())\n",
    "plt.axis('equal')"
   ]
  },
  {
   "cell_type": "markdown",
   "id": "c20a7560",
   "metadata": {},
   "source": [
    ">The following model consist on a single hidden layer with 100 hidden units"
   ]
  },
  {
   "cell_type": "code",
   "execution_count": null,
   "id": "3b860c16",
   "metadata": {},
   "outputs": [],
   "source": [
    "D = 1  # dimensions\n",
    "O = 1  # output dimension\n",
    "H = 100  # num_hidden_units\n",
    "\n",
    "\n",
    "# nn package to create our linear model\n",
    "# each Linear module has a weight and bias\n",
    "model = nn.Sequential(\n",
    "    nn.Linear(D, H),\n",
    "    nn.Linear(H, O)\n",
    ")\n",
    "model.to(device) # Convert to CUDA"
   ]
  },
  {
   "cell_type": "markdown",
   "id": "dc1af623",
   "metadata": {},
   "source": [
    ">Training our model:"
   ]
  },
  {
   "cell_type": "code",
   "execution_count": null,
   "id": "5a8c2dc3",
   "metadata": {},
   "outputs": [],
   "source": [
    "def train_model(model, X, y, optimizer='SGD', epochs=1000):\n",
    "    # nn package also has different loss functions.\n",
    "    # we use MSE loss for our regression task\n",
    "    criterion = torch.nn.MSELoss()\n",
    "    \n",
    "    learning_rate = 1e-3\n",
    "\n",
    "    # we use the optim package to apply\n",
    "    # stochastic gradient descent for our parameter updates\n",
    "    \n",
    "    if optimizer == 'SGD':\n",
    "        optimizer = torch.optim.SGD(model.parameters(), lr=learning_rate)\n",
    "    elif optimizer == 'Adam':\n",
    "        optimizer = torch.optim.Adam(model.parameters(), lr=learning_rate)\n",
    "    \n",
    "    # Training\n",
    "    for t in range(epochs):\n",
    "\n",
    "        # Feed forward to get the logits\n",
    "        y_pred = model(X)\n",
    "\n",
    "        # Compute the loss (MSE)\n",
    "        loss = criterion(y_pred, y)\n",
    "        print(\"[EPOCH]: %i, [LOSS or MSE]: %.6f\" % (t, loss.item()))\n",
    "        display.clear_output(wait=True)\n",
    "\n",
    "        # zero the gradients before running\n",
    "        # the backward pass.\n",
    "        optimizer.zero_grad()\n",
    "\n",
    "        # Backward pass to compute the gradient\n",
    "        # of loss w.r.t our learnable params. \n",
    "        loss.backward()\n",
    "\n",
    "        # Update params\n",
    "        optimizer.step()\n",
    "        \n",
    "    return model"
   ]
  },
  {
   "cell_type": "code",
   "execution_count": null,
   "id": "8e6f0863",
   "metadata": {},
   "outputs": [],
   "source": [
    "model = train_model(model, X, y)\n",
    "\n",
    "y_pred = model(X)"
   ]
  },
  {
   "cell_type": "code",
   "execution_count": null,
   "id": "5b0d70ae",
   "metadata": {},
   "outputs": [],
   "source": [
    "plt.scatter(X.data.numpy(), y.data.numpy())\n",
    "plt.plot(X.data.numpy(), y_pred.data.numpy(), 'r-', lw=5)\n",
    "plt.axis('equal');"
   ]
  },
  {
   "cell_type": "markdown",
   "id": "dec3907c",
   "metadata": {},
   "source": [
    ">Now we want to apply a non-linear activation function "
   ]
  },
  {
   "cell_type": "code",
   "execution_count": null,
   "id": "5ab1b31e",
   "metadata": {},
   "outputs": [],
   "source": [
    "model = nn.Sequential(\n",
    "    nn.Linear(D, H),\n",
    "    nn.ReLU(),\n",
    "    nn.Linear(H, O)\n",
    ")\n",
    "model.to(device) # Convert to CUDA if apply"
   ]
  },
  {
   "cell_type": "markdown",
   "id": "f6b322df",
   "metadata": {},
   "source": [
    ">Now consider using different Optimizers [`torch.optim`](https://pytorch.org/docs/stable/optim.html) what do you observe?"
   ]
  },
  {
   "cell_type": "code",
   "execution_count": null,
   "id": "3efe2edc",
   "metadata": {},
   "outputs": [],
   "source": [
    "model = train_model(model, X, y, 'Adam', 1000)\n",
    "\n",
    "y_pred = model(X)"
   ]
  },
  {
   "cell_type": "code",
   "execution_count": null,
   "id": "9b00467c",
   "metadata": {},
   "outputs": [],
   "source": [
    "plt.scatter(X.data.numpy(), y.data.numpy())\n",
    "plt.plot(X.data.numpy(), y_pred.data.numpy(), 'r-', lw=5)\n",
    "plt.axis('equal')"
   ]
  },
  {
   "cell_type": "markdown",
   "id": "d6b7712f",
   "metadata": {},
   "source": [
    ">Predictions outside the range of the training data:"
   ]
  },
  {
   "cell_type": "code",
   "execution_count": null,
   "id": "f92e0f5b",
   "metadata": {},
   "outputs": [],
   "source": [
    "X_new = torch.unsqueeze(torch.linspace(-5, 5, 100), dim=1)\n",
    "\n",
    "# Getting predictions from input\n",
    "with torch.no_grad():\n",
    "    y_pred = model(X_new)\n",
    "\n",
    "plt.plot(X_new.data.numpy(), y_pred.data.numpy(), 'r-', lw=1)\n",
    "\n",
    "plt.scatter(X.data.numpy(), y.data.numpy())"
   ]
  },
  {
   "cell_type": "markdown",
   "id": "46e06d69",
   "metadata": {},
   "source": [
    ">Use different activation functions. What do you observe when you make predictions outside the training data range?"
   ]
  },
  {
   "cell_type": "code",
   "execution_count": null,
   "id": "e79e84da",
   "metadata": {},
   "outputs": [],
   "source": [
    "####################\n",
    "# Your Code Here   #\n",
    "####################"
   ]
  },
  {
   "cell_type": "code",
   "execution_count": null,
   "id": "a5e592c8",
   "metadata": {},
   "outputs": [],
   "source": [
    "# You can run this cell multiple times for further training your model \n",
    "\n",
    "model = train_model(model, X, y, 'Adam', 4000)\n",
    "\n",
    "y_pred = model(X)"
   ]
  },
  {
   "cell_type": "code",
   "execution_count": null,
   "id": "fe705a32",
   "metadata": {},
   "outputs": [],
   "source": [
    "X_new = torch.unsqueeze(torch.linspace(-10, 10, 100), dim=1)\n",
    "\n",
    "# Getting predictions from input\n",
    "with torch.no_grad():\n",
    "    y_pred = model(X_new)\n",
    "\n",
    "plt.plot(X_new.data.numpy(), y_pred.data.numpy(), 'r-', lw=1)\n",
    "\n",
    "plt.scatter(X.data.numpy(), y.data.numpy())"
   ]
  },
  {
   "cell_type": "markdown",
   "id": "6ca19593",
   "metadata": {},
   "source": [
    "## nn.Module"
   ]
  },
  {
   "cell_type": "code",
   "execution_count": null,
   "id": "2fa4ba93",
   "metadata": {},
   "outputs": [],
   "source": [
    "import torch.nn.functional as F\n",
    "\n",
    "class Net(nn.Module):\n",
    "    def __init__(self, input_size, output_size, hidden_size):\n",
    "        super(Net, self).__init__()\n",
    "        \n",
    "        self.fc1 = nn.Linear(input_size, hidden_size)\n",
    "        self.fc2 = nn.Linear(hidden_size, output_size)\n",
    "        \n",
    "    def forward(self, x):\n",
    "        \n",
    "        a = self.fc1(x)\n",
    "        z = F.relu(a)\n",
    "        out = self.fc2(z)\n",
    "        \n",
    "        return out"
   ]
  },
  {
   "cell_type": "code",
   "execution_count": null,
   "id": "5e031cff",
   "metadata": {},
   "outputs": [],
   "source": [
    "model = Net(D, O, H)"
   ]
  },
  {
   "cell_type": "code",
   "execution_count": null,
   "id": "03ebb41d",
   "metadata": {},
   "outputs": [],
   "source": [
    "model = train_model(model, X, y, 'Adam', 4000)\n",
    "\n",
    "y_pred = model(X)"
   ]
  },
  {
   "cell_type": "code",
   "execution_count": null,
   "id": "9f270a45",
   "metadata": {},
   "outputs": [],
   "source": [
    "plt.scatter(X.data.numpy(), y.data.numpy())\n",
    "plt.plot(X.data.numpy(), y_pred.data.numpy(), 'r-', lw=5)\n",
    "plt.axis('equal')"
   ]
  }
 ],
 "metadata": {
  "kernelspec": {
   "display_name": "Python 3",
   "language": "python",
   "name": "python3"
  },
  "language_info": {
   "codemirror_mode": {
    "name": "ipython",
    "version": 3
   },
   "file_extension": ".py",
   "mimetype": "text/x-python",
   "name": "python",
   "nbconvert_exporter": "python",
   "pygments_lexer": "ipython3",
   "version": "3.9.0"
  }
 },
 "nbformat": 4,
 "nbformat_minor": 5
}
