{
 "cells": [
  {
   "cell_type": "markdown",
   "metadata": {},
   "source": [
    "# Temporal and Spatial DataMining\n",
    "\n",
    "## Exercise_05_Similarity - Intro"
   ]
  },
  {
   "cell_type": "code",
   "execution_count": null,
   "metadata": {},
   "outputs": [],
   "source": [
    "import math\n",
    "import numpy as np\n",
    "import matplotlib.pyplot as plt\n",
    "from scipy.linalg import norm\n",
    "from matplotlib import cm\n",
    "plt.style.use('ggplot')"
   ]
  },
  {
   "cell_type": "code",
   "execution_count": null,
   "metadata": {},
   "outputs": [],
   "source": [
    "class ExampleClass:\n",
    "    def __init__(self):\n",
    "        print('I run when we create an object.')\n",
    "        # Saving a variable with `self.var = var` enables other methods in a class\n",
    "        # to have access to that variable.\n",
    "        self.variable = 'I am a variable.'       \n",
    "        \n",
    "    def __call__(self):\n",
    "        print('I run when the object is called')\n",
    "        \n",
    "    def some_method(self):\n",
    "        print('The variable can be accessed in this method:', self.variable)\n",
    "        print('I am a method.')\n",
    "        \n",
    "obj = ExampleClass() # Create object out of class, calls the __init__ method\n",
    "obj()                # Call the object, runs the __call__ method\n",
    "obj.some_method()    # Call some_method from the object.\n",
    "obj.variable         # Get the value of the variable defined in the object."
   ]
  },
  {
   "cell_type": "markdown",
   "metadata": {},
   "source": [
    "### Task 1: Distance calculation\n",
    "\n",
    "The euclidean distance of two vectors is defined as:\n",
    "$$d(\\mathbf{X}, \\mathbf{Y})=\\|\\mathbf{X}-\\mathbf{Y}\\|_{2}=\\sqrt{\\left(x_{1}-y_{1}\\right)^{2}+\\cdots+\\left(x_{n}-y_{n}\\right)^{2}}=\\sqrt{\\sum_{i=1}^{n}\\left(x_{i}-y_{i}\\right)^{2}}$$\n"
   ]
  },
  {
   "cell_type": "markdown",
   "metadata": {},
   "source": [
    "The euclidean distance is a special form of the <a href=\"https://en.wikipedia.org/wiki/Norm_(mathematics)#p-norm\">p-norm</a>:\n",
    "\n",
    "\\begin{align}\n",
    "D_{p}(\\mathbf{X}, \\mathbf{Y}) = (\\sum_{i=1}^{N}|x_i-y_i|^{p})^{\\frac{1}{p}}\n",
    "\\end{align}"
   ]
  },
  {
   "cell_type": "markdown",
   "metadata": {},
   "source": [
    "**a)** Create the class `PNorm` that gets the value of $p$ as an initialization parameter. The `__call__` method should have two vectors as input arguments and return their distance."
   ]
  },
  {
   "cell_type": "code",
   "execution_count": null,
   "metadata": {},
   "outputs": [],
   "source": [
    "class PNorm:\n",
    "    def __init__(self, p):\n",
    "        \"\"\"Initialization of PNorm.\"\"\"\n",
    "####################\n",
    "# Your Code Here   #\n",
    "####################\n",
    "    \n",
    "    def __call__(self, u, v):\n",
    "        \"\"\"Call method that determines the distance between u and v.\"\"\"\n",
    "####################\n",
    "# Your Code Here   #\n",
    "####################"
   ]
  },
  {
   "cell_type": "markdown",
   "metadata": {},
   "source": [
    "**b)** Calculate the Manhattan distance (p=1) and Euclid distance (p=2) between X1 and X2:"
   ]
  },
  {
   "cell_type": "code",
   "execution_count": null,
   "metadata": {},
   "outputs": [],
   "source": [
    "np.random.seed(0)\n",
    "X1 = np.random.rand(10)\n",
    "X2 = np.random.rand(10)"
   ]
  },
  {
   "cell_type": "code",
   "execution_count": null,
   "metadata": {},
   "outputs": [],
   "source": [
    "manh_dist = PNorm(p=1)\n",
    "euc_norm = PNorm(p=2)\n",
    "\n",
    "print(\"Manhattan distance between X1 and X2:\", manh_dist(X1, X2))\n",
    "print(\"Euclidean distance between X1 and X2:\", euc_norm(X1, X2))"
   ]
  },
  {
   "cell_type": "markdown",
   "metadata": {},
   "source": [
    "The [Mahalanobis distance](https://en.wikipedia.org/wiki/Mahalanobis_distance) of two vectors $\\mathbf{u}$, $\\mathbf{v}$ given a covariance matrix $\\mathbf{S}$ is given by:\n",
    "$$\\Delta(\\mathbf{u}, \\mathbf{v}) =  \\sqrt{(\\mathbf{u}-\\mathbf{v})^T\\mathbf{S}^{-1}(\\mathbf{u}-\\mathbf{v})}$$\n",
    "\n",
    "A covariance matrix is a symmetric, positive semidefinite matrix. Use the provided matrix S:\n",
    "$S=\\begin{pmatrix}1 & 0.5 \\\\ 0.5 & 1 \\end{pmatrix}$\n",
    "\n",
    "**c)** Implement a class `Mahalanobis` that gets the matrix of $\\mathbf{S}$ as an initialization parameter. The call method should get two vectors and return their distance:"
   ]
  },
  {
   "cell_type": "code",
   "execution_count": null,
   "metadata": {},
   "outputs": [],
   "source": [
    "####################\n",
    "# Your Code Here   #\n",
    "####################"
   ]
  },
  {
   "cell_type": "code",
   "execution_count": null,
   "metadata": {},
   "outputs": [],
   "source": [
    "S = [[1, .5], [.5, 1]]\n",
    "\n",
    "a, b = np.array([1, 2]), np.array([2, 1])\n",
    "mahalanobis_dist = Mahalanobis(S=S)\n",
    "mahalanobis_dist(a, b) # should return 2"
   ]
  },
  {
   "cell_type": "markdown",
   "metadata": {},
   "source": [
    "The scaled Euclidean distance (based on the matrix norm) is given by: \n",
    "\n",
    "\\begin{align}\n",
    "D_{M}(\\mathbf{x}, \\mathbf{y}) = \\sqrt{(\\mathbf{x}-\\mathbf{y})^{T}\\mathbf{M}(\\mathbf{x}-\\mathbf{y}))}\n",
    "\\end{align}"
   ]
  },
  {
   "cell_type": "markdown",
   "metadata": {},
   "source": [
    "with the Matrix norm:\n",
    "\n",
    "\\begin{align}\n",
    "\\mathbf{M} = \\left(\\frac{1}{N-1}\\sum_{k=1}^{N}(x_k-\\mu)(x_k-\\mu)^{T}\\right)^{-1}\n",
    "\\end{align}\n",
    "\n",
    "and the mean value $$\\mu = \\frac{1}{N}\\sum_{k=1}^{N}x_k$$. \n",
    "\n",
    "**c)** Implement scaled Euclidean distance in python and calculate the distance $D_{M}(\\mathbf{x}_1, \\mathbf{x}_2)$:\n",
    "\n",
    ">with $x_k$ is the $k_{th}$ sample, and $N=2$.\n",
    "\n",
    ">consider using the right dimensions\n",
    "\n",
    "$$\\mathbf{x}_1, \\mathbf{x}_2 \\in \\mathbb{R}^n \\text{ , } \\mathbf{M} \\in \\mathbb{R}^{n \\times n} \\text{ and } n=10$$"
   ]
  },
  {
   "cell_type": "code",
   "execution_count": null,
   "metadata": {},
   "outputs": [],
   "source": [
    "X = np.matrix(np.concatenate((X1.reshape(1,-1), X2.reshape(1,-1)),axis=0)).T\n",
    "X"
   ]
  },
  {
   "cell_type": "code",
   "execution_count": null,
   "metadata": {},
   "outputs": [],
   "source": [
    "class scaled_Euclid_distance():\n",
    "    \n",
    "    def __init__(self, X):\n",
    "        \"\"\" initialization using all samples \"\"\"\n",
    "        self.M = self.calculate_M(X)\n",
    "    \n",
    "    def calculate_M(self, X):\n",
    "        \n",
    "        pass\n",
    "    \n",
    "    ####################\n",
    "    # Your Code Here   #\n",
    "    ####################\n",
    "        \n",
    "    def __call__(self, X, Y):\n",
    "        \n",
    "        pass\n",
    "    \n",
    "    ####################\n",
    "    # Your Code Here   #\n",
    "    ####################"
   ]
  },
  {
   "cell_type": "code",
   "execution_count": null,
   "metadata": {},
   "outputs": [],
   "source": [
    "X = np.matrix(np.concatenate((X1.reshape(1,-1), X2.reshape(1,-1)),axis=0)).T\n",
    "scl_euc = scaled_Euclid_distance(X)"
   ]
  },
  {
   "cell_type": "code",
   "execution_count": null,
   "metadata": {},
   "outputs": [],
   "source": [
    "print(\"scaled Euclid distance:\", scl_euc(X1, X2))"
   ]
  },
  {
   "cell_type": "markdown",
   "metadata": {},
   "source": [
    "**d)** Implement following distance measure:\n",
    "\n",
    "*Cosine distance:* Normalized standard scalar product of two vectors (cosine of the angle):\n",
    "\t\n",
    "$$d(\\mathbf{x},\\mathbf{y}) := \\frac{\\langle \\mathbf{x} \\vert \\mathbf{y} \\rangle}{||\\mathbf{x}||\\cdot||\\mathbf{y}||}$$\n",
    "Note: another notation for $\\langle \\mathbf{x} \\vert \\mathbf{y} \\rangle$ is $\\mathbf{x}^{\\textrm{T}} \\mathbf{y}$."
   ]
  },
  {
   "cell_type": "code",
   "execution_count": null,
   "metadata": {},
   "outputs": [],
   "source": [
    "### Your Code Here ###"
   ]
  },
  {
   "cell_type": "markdown",
   "metadata": {},
   "source": [
    "### Task 2: Plotting\n",
    "Plotting is an essential tool for data visualization. \n",
    "\n",
    "> Use the provided `plot_distances` function to visualize your previously implemented distance functions.\n",
    "> The `plot_distance` function takes an arbitrary distance function as input, which itself has two input arguments."
   ]
  },
  {
   "cell_type": "code",
   "execution_count": null,
   "metadata": {},
   "outputs": [],
   "source": [
    "def plot_distances(distf, base=np.array([0,0])):\n",
    "    \"\"\"\n",
    "    Plot level contours of given distance function **distf** around the development point **base**\n",
    "\n",
    "    Parameters:\n",
    "    ===========\n",
    "    distf - (x,y) -> d A function taking two arrays and returning a positive distance measure.\n",
    "\n",
    "    base - base point to develop the contour lines around.\n",
    "    \"\"\"\n",
    "    X, Y = np.mgrid[-3:3:0.1, -3:3:0.1]\n",
    "    Z = np.zeros_like(X)\n",
    "\n",
    "    for i,_ in enumerate(X):\n",
    "        for j,_ in enumerate(Y):\n",
    "            x = X[i,j]\n",
    "            y = Y[i,j]\n",
    "            pt = np.asarray([x,y])\n",
    "            Z[i,j] = distf(pt, base)\n",
    "\n",
    "    levels = np.arange(0,6,0.25)\n",
    "\n",
    "    CS = plt.contour(X, Y, Z, levels=levels)\n",
    "    plt.clabel(CS, inline=1, fontsize=10)\n",
    "    plt.grid(True)"
   ]
  },
  {
   "cell_type": "markdown",
   "metadata": {},
   "source": [
    "**a)** For the p-norm try different values for the value of `p` and plot the distance using the method `plot_distance`."
   ]
  },
  {
   "cell_type": "code",
   "execution_count": null,
   "metadata": {},
   "outputs": [],
   "source": [
    "####################\n",
    "# Your Code Here   #\n",
    "####################"
   ]
  },
  {
   "cell_type": "markdown",
   "metadata": {},
   "source": [
    "**b)** For the Mahalanobis distance try different values for the covariance matrix `S` and plot the distance using the method `plot_distance`. "
   ]
  },
  {
   "cell_type": "code",
   "execution_count": null,
   "metadata": {},
   "outputs": [],
   "source": [
    "####################\n",
    "# Your Code Here   #\n",
    "####################"
   ]
  }
 ],
 "metadata": {
  "kernelspec": {
   "display_name": "Python 3",
   "language": "python",
   "name": "python3"
  },
  "language_info": {
   "codemirror_mode": {
    "name": "ipython",
    "version": 3
   },
   "file_extension": ".py",
   "mimetype": "text/x-python",
   "name": "python",
   "nbconvert_exporter": "python",
   "pygments_lexer": "ipython3",
   "version": "3.9.18"
  }
 },
 "nbformat": 4,
 "nbformat_minor": 4
}
